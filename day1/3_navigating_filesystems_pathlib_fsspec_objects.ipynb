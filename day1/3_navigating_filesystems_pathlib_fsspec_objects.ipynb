{
 "cells": [
  {
   "cell_type": "markdown",
   "metadata": {},
   "source": [
    "# Navigating the Filesystem\n",
    "\n",
    "Let's delve into the essential skills of navigating and managing files and directories, a fundamental aspect of handling experimental data in neuroscience research. We will explore various commands and techniques to efficiently organize and access your experimental data, ensuring seamless integration into your analysis workflow."
   ]
  },
  {
   "cell_type": "markdown",
   "metadata": {},
   "source": [
    "Run the Following Code to Get the Data for this Notebook:"
   ]
  },
  {
   "cell_type": "code",
   "execution_count": 3,
   "metadata": {},
   "outputs": [],
   "source": [
    "from pathlib import Path\n",
    "paths = [\n",
    "    \"data/exp1/joey_2021-05-01_001/spikes.npy\", \n",
    "    \"data/exp1/joey_2021-05-02_001/spikes.npy\", \n",
    "    \"data/exp1/joey_2021-05-02_001/lfps.h5\", \n",
    "    \"data/exp1/phoebe_2021-05-02_001/spikes.npy\",\n",
    "    \"data/exp1/phoebe_2021-05-03_001/spikes.npy\", \n",
    "    \"data/exp1/phoebe_2021-05-03_001/lfps.h5\", \n",
    "    \"data/exp1/phoebe_2021-05-04_001/spikes.npy\",\n",
    "]\n",
    "\n",
    "for path in paths:\n",
    "    path = Path(path)\n",
    "    path.parent.mkdir(exist_ok=True, parents=True)\n",
    "    path.touch()"
   ]
  },
  {
   "cell_type": "code",
   "execution_count": null,
   "metadata": {},
   "outputs": [],
   "source": []
  },
  {
   "cell_type": "markdown",
   "metadata": {},
   "source": [
    "## Using the pathlib library\n",
    "\n",
    "The pathlib module in Python introduces an object-oriented approach to file system paths--. This section is designed to familiarize you with this powerful library, enhancing your ability to handle file paths and directories with more flexibility and intuitiveness. We'll cover basic operations like listing directories, globbing for pattern matching, and more, all through the lens of object-oriented programming.\n",
    "\n",
    "| Command | Purpose |\n",
    "| :-- | :-- |\n",
    "| `from pathlib import Path` | | \n",
    "| `Path('.').resolve()` | Gets the current working directory. |\n",
    "| `path = Path('./data')` | Make a `Path` object located in the data folder of the working directory. |\n",
    "| `list(path.iterdir())` | List all the files and folders in the specified path |\n",
    "| `new_path = path.joinpath(\"raw\")` | Append the \"/raw\" folder to the current path |\n",
    "| `new_path = path / \"raw\"` | Also append the \"/raw\" folder to the current path. |\n",
    "| `glob.glob('*.h5')` | Search for files that end in \".h5\" in the current path. |\n",
    "| `glob.glob('data*')` | Search for files that start with \"data\" in the current path. |\n",
    "| `glob.glob('./**/data*')` | Search for files that start with \"data\" in the any subfolder in the current path. |\n"
   ]
  },
  {
   "cell_type": "code",
   "execution_count": 4,
   "metadata": {},
   "outputs": [],
   "source": [
    "from pathlib import Path"
   ]
  },
  {
   "cell_type": "markdown",
   "metadata": {},
   "source": [
    "What is the current working directory?"
   ]
  },
  {
   "cell_type": "code",
   "execution_count": 5,
   "metadata": {},
   "outputs": [
    {
     "data": {
      "text/plain": [
       "PosixPath('/Users/leon/Documents/data-management-course/iBOTS-File-And-Data-Management/day1')"
      ]
     },
     "execution_count": 5,
     "metadata": {},
     "output_type": "execute_result"
    }
   ],
   "source": [
    "Path('.').resolve()"
   ]
  },
  {
   "cell_type": "markdown",
   "metadata": {},
   "source": [
    "What files and folders are inside the current working directory?"
   ]
  },
  {
   "cell_type": "code",
   "execution_count": 7,
   "metadata": {},
   "outputs": [
    {
     "data": {
      "text/plain": [
       "[PosixPath('1_organizing-data-into-dictionaries.ipynb'),\n",
       " PosixPath('4_webdav_sciebo.ipynb'),\n",
       " PosixPath('2_parsing_metadata_from_filenames.ipynb'),\n",
       " PosixPath('data'),\n",
       " PosixPath('3_navigating_filesystems_pathlib_fsspec_objects.ipynb')]"
      ]
     },
     "execution_count": 7,
     "metadata": {},
     "output_type": "execute_result"
    }
   ],
   "source": [
    "path = Path('./')\n",
    "list(path.iterdir())"
   ]
  },
  {
   "cell_type": "markdown",
   "metadata": {},
   "source": [
    "What Files and folders are inside the \"data\" directory?"
   ]
  },
  {
   "cell_type": "code",
   "execution_count": 10,
   "metadata": {},
   "outputs": [
    {
     "data": {
      "text/plain": [
       "[PosixPath('data/exp1/joey_2021-05-02_001'),\n",
       " PosixPath('data/exp1/joey_2021-05-01_001'),\n",
       " PosixPath('data/exp1/phoebe_2021-05-03_001'),\n",
       " PosixPath('data/exp1/phoebe_2021-05-02_001'),\n",
       " PosixPath('data/exp1/phoebe_2021-05-04_001')]"
      ]
     },
     "execution_count": 10,
     "metadata": {},
     "output_type": "execute_result"
    }
   ],
   "source": [
    "path = Path('./data/exp1')\n",
    "list(path.iterdir())"
   ]
  },
  {
   "cell_type": "markdown",
   "metadata": {},
   "source": [
    "What Files and Folders are inside the \"exp1\" directory, inside the \"data\" directory?"
   ]
  },
  {
   "cell_type": "code",
   "execution_count": 11,
   "metadata": {},
   "outputs": [
    {
     "data": {
      "text/plain": [
       "[PosixPath('data/exp1/joey_2021-05-02_001'),\n",
       " PosixPath('data/exp1/joey_2021-05-01_001'),\n",
       " PosixPath('data/exp1/phoebe_2021-05-03_001'),\n",
       " PosixPath('data/exp1/phoebe_2021-05-02_001'),\n",
       " PosixPath('data/exp1/phoebe_2021-05-04_001')]"
      ]
     },
     "execution_count": 11,
     "metadata": {},
     "output_type": "execute_result"
    }
   ],
   "source": [
    "path = Path('./data/exp1')\n",
    "list(path.iterdir())"
   ]
  },
  {
   "cell_type": "markdown",
   "metadata": {},
   "source": [
    "What folders in exp1 start with the subject \"phoebe\" (Hint: use Path().glob())?"
   ]
  },
  {
   "cell_type": "code",
   "execution_count": 17,
   "metadata": {},
   "outputs": [
    {
     "data": {
      "text/plain": [
       "['data/exp1/phoebe_2021-05-03_001',\n",
       " 'data/exp1/phoebe_2021-05-02_001',\n",
       " 'data/exp1/phoebe_2021-05-04_001']"
      ]
     },
     "execution_count": 17,
     "metadata": {},
     "output_type": "execute_result"
    }
   ],
   "source": [
    "import glob\n",
    "glob.glob('data/exp1/phoebe*')\n",
    "\n"
   ]
  },
  {
   "cell_type": "markdown",
   "metadata": {},
   "source": [
    "What folders in exp1 start with the subject \"joey\"?"
   ]
  },
  {
   "cell_type": "code",
   "execution_count": null,
   "metadata": {},
   "outputs": [],
   "source": []
  },
  {
   "cell_type": "markdown",
   "metadata": {},
   "source": [
    "What folders in exp1 were recorded on the 2nd of May (hint-glob on the date part of the filename)?"
   ]
  },
  {
   "cell_type": "code",
   "execution_count": 18,
   "metadata": {},
   "outputs": [
    {
     "data": {
      "text/plain": [
       "['data/exp1/joey_2021-05-02_001', 'data/exp1/phoebe_2021-05-02_001']"
      ]
     },
     "execution_count": 18,
     "metadata": {},
     "output_type": "execute_result"
    }
   ],
   "source": [
    "glob.glob('data/exp1/*_2021-05-02*')\n",
    "\n"
   ]
  },
  {
   "cell_type": "markdown",
   "metadata": {},
   "source": [
    "What files have the \".h5\" file extension (include all files in any subfolders of exp1)?"
   ]
  },
  {
   "cell_type": "code",
   "execution_count": 19,
   "metadata": {},
   "outputs": [
    {
     "data": {
      "text/plain": [
       "['data/exp1/joey_2021-05-02_001/lfps.h5',\n",
       " 'data/exp1/phoebe_2021-05-03_001/lfps.h5']"
      ]
     },
     "execution_count": 19,
     "metadata": {},
     "output_type": "execute_result"
    }
   ],
   "source": [
    "glob.glob('data/exp1/**/*.h5')\n"
   ]
  },
  {
   "cell_type": "markdown",
   "metadata": {},
   "source": [
    "What files have the \".npy\" file extension (include all files in any subfolders of exp1)?"
   ]
  },
  {
   "cell_type": "code",
   "execution_count": null,
   "metadata": {},
   "outputs": [],
   "source": []
  },
  {
   "cell_type": "markdown",
   "metadata": {},
   "source": [
    "Which of phoebe's files contain lfp data?"
   ]
  },
  {
   "cell_type": "code",
   "execution_count": 21,
   "metadata": {},
   "outputs": [
    {
     "data": {
      "text/plain": [
       "['data/exp1/phoebe_2021-05-03_001/lfps.h5']"
      ]
     },
     "execution_count": 21,
     "metadata": {},
     "output_type": "execute_result"
    }
   ],
   "source": [
    "glob.glob('data/exp1/phoebe*/lfp*')"
   ]
  },
  {
   "cell_type": "markdown",
   "metadata": {},
   "source": [
    "## Accessing Remote File Systems using `fsspec`: \n",
    "\n",
    "In modern neuroscience research, accessing and manipulating data stored in remote file systems is increasingly common. This section introduces fsspec, a library for interacting with various file systems, including remote and cloud-based storage. We'll explore how to list, search, and manage files on different remote systems, an invaluable skill in a data-intensive field like neuroscience.\n",
    "\n",
    "\n",
    "| Code | Description |\n",
    "| :-- | :-- |\n",
    "|`fs.ls()` | Lists all files and directories in the current directory of the filesystem. |\n",
    "| `fs.glob('*.h5')` | Searches for files matching a specified pattern (in this case, all files ending with '.h5') in the current directory and subdirectories. |\n",
    "| `fs.makedirs()` | Creates a new directory at the specified path, including any necessary intermediate directories. |\n",
    "| `fs.removedirs()` | Removes directories recursively. Deletes a directory and, if it's empty, its parent directories as well. |\n",
    "| `fs.rm()` | Removes (deletes) a file or directory. |\n",
    "| `fs.read_text()`| Reads the contents of a file and returns it as a string. |\n",
    "| `fs.read_bytes()` | Reads the contents of a file and returns it as bytes. |\n",
    "| `fs.download()`| Downloads a file from the remote filesystem to the local filesystem. |\n"
   ]
  },
  {
   "cell_type": "markdown",
   "metadata": {},
   "source": [
    "### GitHub Repos as a Remote Filesystem\n",
    "\n",
    "GitHub, a platform widely used for code sharing and collaboration, can also serve as a remote filesystem for data storage and retrieval. This section guides you through using GitHub repositories for accessing and managing data files, leveraging the `GithubFileSystem` class in `fsspec`. \n",
    "\n"
   ]
  },
  {
   "cell_type": "markdown",
   "metadata": {},
   "source": [
    "**Exercises**: Explore navigating remote GitHub filesystems using the `fsspec`'s `GithubFileSystem` class."
   ]
  },
  {
   "cell_type": "code",
   "execution_count": 2,
   "metadata": {},
   "outputs": [
    {
     "name": "stdout",
     "output_type": "stream",
     "text": [
      "Collecting package metadata (current_repodata.json): done\n",
      "Solving environment: done\n",
      "\n",
      "\n",
      "==> WARNING: A newer version of conda exists. <==\n",
      "  current version: 23.7.4\n",
      "  latest version: 24.1.2\n",
      "\n",
      "Please update conda by running\n",
      "\n",
      "    $ conda update -n base -c defaults conda\n",
      "\n",
      "Or to minimize the number of packages updated during conda update use\n",
      "\n",
      "     conda install conda=24.1.2\n",
      "\n",
      "\n",
      "\n",
      "# All requested packages already installed.\n",
      "\n",
      "\n",
      "Note: you may need to restart the kernel to use updated packages.\n"
     ]
    }
   ],
   "source": [
    "conda install -y fsspec\n"
   ]
  },
  {
   "cell_type": "code",
   "execution_count": 3,
   "metadata": {},
   "outputs": [],
   "source": [
    "\n",
    "import fsspec\n",
    "\n",
    "\n",
    "\n",
    "\n",
    "from fsspec.implementations.github import GithubFileSystem\n",
    "\n",
    "\n"
   ]
  },
  {
   "cell_type": "markdown",
   "metadata": {},
   "source": [
    "**Example**: List all the files in the root directory of https://github.com/ibehave-ibots/iBOTS-Tools"
   ]
  },
  {
   "cell_type": "code",
   "execution_count": 6,
   "metadata": {},
   "outputs": [
    {
     "ename": "TypeError",
     "evalue": "GithubFileSystem.ls() missing 1 required positional argument: 'path'",
     "output_type": "error",
     "traceback": [
      "\u001b[0;31m---------------------------------------------------------------------------\u001b[0m",
      "\u001b[0;31mTypeError\u001b[0m                                 Traceback (most recent call last)",
      "Cell \u001b[0;32mIn[6], line 3\u001b[0m\n\u001b[1;32m      1\u001b[0m \u001b[38;5;66;03m#from fsspec.implementations.github import GithubFileSystem\u001b[39;00m\n\u001b[1;32m      2\u001b[0m fs \u001b[38;5;241m=\u001b[39m GithubFileSystem(org\u001b[38;5;241m=\u001b[39m\u001b[38;5;124m\"\u001b[39m\u001b[38;5;124mibehave-ibots\u001b[39m\u001b[38;5;124m\"\u001b[39m, repo\u001b[38;5;241m=\u001b[39m\u001b[38;5;124m\"\u001b[39m\u001b[38;5;124miBOTS-Tools\u001b[39m\u001b[38;5;124m\"\u001b[39m)\n\u001b[0;32m----> 3\u001b[0m \u001b[43mfs\u001b[49m\u001b[38;5;241;43m.\u001b[39;49m\u001b[43mls\u001b[49m\u001b[43m(\u001b[49m\u001b[43m)\u001b[49m\n",
      "\u001b[0;31mTypeError\u001b[0m: GithubFileSystem.ls() missing 1 required positional argument: 'path'"
     ]
    }
   ],
   "source": [
    "#from fsspec.implementations.github import GithubFileSystem\n",
    "fs = GithubFileSystem(org=\"ibehave-ibots\", repo=\"iBOTS-Tools\")\n",
    "fs.ls()"
   ]
  },
  {
   "cell_type": "markdown",
   "metadata": {},
   "source": [
    "List all the files in the root directory of https://github.com/mwaskom/seaborn-data"
   ]
  },
  {
   "cell_type": "code",
   "execution_count": 13,
   "metadata": {},
   "outputs": [
    {
     "ename": "HTTPError",
     "evalue": "403 Client Error: rate limit exceeded for url: https://api.github.com/repos/mwaskom/seaborn-data",
     "output_type": "error",
     "traceback": [
      "\u001b[0;31m---------------------------------------------------------------------------\u001b[0m",
      "\u001b[0;31mHTTPError\u001b[0m                                 Traceback (most recent call last)",
      "Cell \u001b[0;32mIn[13], line 1\u001b[0m\n\u001b[0;32m----> 1\u001b[0m fs \u001b[38;5;241m=\u001b[39m \u001b[43mGithubFileSystem\u001b[49m\u001b[43m(\u001b[49m\u001b[43morg\u001b[49m\u001b[38;5;241;43m=\u001b[39;49m\u001b[38;5;124;43m\"\u001b[39;49m\u001b[38;5;124;43mmwaskom\u001b[39;49m\u001b[38;5;124;43m\"\u001b[39;49m\u001b[43m,\u001b[49m\u001b[43m \u001b[49m\u001b[43mrepo\u001b[49m\u001b[38;5;241;43m=\u001b[39;49m\u001b[38;5;124;43m\"\u001b[39;49m\u001b[38;5;124;43mseaborn-data\u001b[39;49m\u001b[38;5;124;43m\"\u001b[39;49m\u001b[43m)\u001b[49m\n\u001b[1;32m      2\u001b[0m fs\u001b[38;5;241m.\u001b[39mls(\u001b[38;5;124m\"\u001b[39m\u001b[38;5;124m\"\u001b[39m)\n",
      "File \u001b[0;32m~/anaconda3/envs/dwshop/lib/python3.11/site-packages/fsspec/spec.py:79\u001b[0m, in \u001b[0;36m_Cached.__call__\u001b[0;34m(cls, *args, **kwargs)\u001b[0m\n\u001b[1;32m     77\u001b[0m     \u001b[38;5;28;01mreturn\u001b[39;00m \u001b[38;5;28mcls\u001b[39m\u001b[38;5;241m.\u001b[39m_cache[token]\n\u001b[1;32m     78\u001b[0m \u001b[38;5;28;01melse\u001b[39;00m:\n\u001b[0;32m---> 79\u001b[0m     obj \u001b[38;5;241m=\u001b[39m \u001b[38;5;28;43msuper\u001b[39;49m\u001b[43m(\u001b[49m\u001b[43m)\u001b[49m\u001b[38;5;241;43m.\u001b[39;49m\u001b[38;5;21;43m__call__\u001b[39;49m\u001b[43m(\u001b[49m\u001b[38;5;241;43m*\u001b[39;49m\u001b[43margs\u001b[49m\u001b[43m,\u001b[49m\u001b[43m \u001b[49m\u001b[38;5;241;43m*\u001b[39;49m\u001b[38;5;241;43m*\u001b[39;49m\u001b[43mkwargs\u001b[49m\u001b[43m)\u001b[49m\n\u001b[1;32m     80\u001b[0m     \u001b[38;5;66;03m# Setting _fs_token here causes some static linters to complain.\u001b[39;00m\n\u001b[1;32m     81\u001b[0m     obj\u001b[38;5;241m.\u001b[39m_fs_token_ \u001b[38;5;241m=\u001b[39m token\n",
      "File \u001b[0;32m~/anaconda3/envs/dwshop/lib/python3.11/site-packages/fsspec/implementations/github.py:52\u001b[0m, in \u001b[0;36mGithubFileSystem.__init__\u001b[0;34m(self, org, repo, sha, username, token, **kwargs)\u001b[0m\n\u001b[1;32m     50\u001b[0m     u \u001b[38;5;241m=\u001b[39m \u001b[38;5;124m\"\u001b[39m\u001b[38;5;124mhttps://api.github.com/repos/\u001b[39m\u001b[38;5;132;01m{org}\u001b[39;00m\u001b[38;5;124m/\u001b[39m\u001b[38;5;132;01m{repo}\u001b[39;00m\u001b[38;5;124m\"\u001b[39m\n\u001b[1;32m     51\u001b[0m     r \u001b[38;5;241m=\u001b[39m requests\u001b[38;5;241m.\u001b[39mget(u\u001b[38;5;241m.\u001b[39mformat(org\u001b[38;5;241m=\u001b[39morg, repo\u001b[38;5;241m=\u001b[39mrepo), \u001b[38;5;241m*\u001b[39m\u001b[38;5;241m*\u001b[39m\u001b[38;5;28mself\u001b[39m\u001b[38;5;241m.\u001b[39mkw)\n\u001b[0;32m---> 52\u001b[0m     \u001b[43mr\u001b[49m\u001b[38;5;241;43m.\u001b[39;49m\u001b[43mraise_for_status\u001b[49m\u001b[43m(\u001b[49m\u001b[43m)\u001b[49m\n\u001b[1;32m     53\u001b[0m     sha \u001b[38;5;241m=\u001b[39m r\u001b[38;5;241m.\u001b[39mjson()[\u001b[38;5;124m\"\u001b[39m\u001b[38;5;124mdefault_branch\u001b[39m\u001b[38;5;124m\"\u001b[39m]\n\u001b[1;32m     55\u001b[0m \u001b[38;5;28mself\u001b[39m\u001b[38;5;241m.\u001b[39mroot \u001b[38;5;241m=\u001b[39m sha\n",
      "File \u001b[0;32m~/anaconda3/envs/dwshop/lib/python3.11/site-packages/requests/models.py:1021\u001b[0m, in \u001b[0;36mResponse.raise_for_status\u001b[0;34m(self)\u001b[0m\n\u001b[1;32m   1016\u001b[0m     http_error_msg \u001b[38;5;241m=\u001b[39m (\n\u001b[1;32m   1017\u001b[0m         \u001b[38;5;124mf\u001b[39m\u001b[38;5;124m\"\u001b[39m\u001b[38;5;132;01m{\u001b[39;00m\u001b[38;5;28mself\u001b[39m\u001b[38;5;241m.\u001b[39mstatus_code\u001b[38;5;132;01m}\u001b[39;00m\u001b[38;5;124m Server Error: \u001b[39m\u001b[38;5;132;01m{\u001b[39;00mreason\u001b[38;5;132;01m}\u001b[39;00m\u001b[38;5;124m for url: \u001b[39m\u001b[38;5;132;01m{\u001b[39;00m\u001b[38;5;28mself\u001b[39m\u001b[38;5;241m.\u001b[39murl\u001b[38;5;132;01m}\u001b[39;00m\u001b[38;5;124m\"\u001b[39m\n\u001b[1;32m   1018\u001b[0m     )\n\u001b[1;32m   1020\u001b[0m \u001b[38;5;28;01mif\u001b[39;00m http_error_msg:\n\u001b[0;32m-> 1021\u001b[0m     \u001b[38;5;28;01mraise\u001b[39;00m HTTPError(http_error_msg, response\u001b[38;5;241m=\u001b[39m\u001b[38;5;28mself\u001b[39m)\n",
      "\u001b[0;31mHTTPError\u001b[0m: 403 Client Error: rate limit exceeded for url: https://api.github.com/repos/mwaskom/seaborn-data"
     ]
    }
   ],
   "source": [
    "fs = GithubFileSystem(org=\"mwaskom\", repo=\"seaborn-data\")\n",
    "fs.ls(\"\")\n"
   ]
  },
  {
   "cell_type": "markdown",
   "metadata": {},
   "source": [
    "List all the files whose filenames start with the letter \"p\" (i.e. \"glob\" the files)"
   ]
  },
  {
   "cell_type": "code",
   "execution_count": 10,
   "metadata": {},
   "outputs": [
    {
     "data": {
      "text/plain": [
       "['learning-projects',\n",
       " 'learning-projects/Ben/tests_with_barnsleys_fern/features/steps',\n",
       " 'learning-projects/Ben/tests_with_barnsleys_fern/features/steps/trans.py',\n",
       " 'learning-projects/Ben/tests_with_barnsleys_fern/fern.png',\n",
       " 'learning-projects/Ben/tests_with_barnsleys_fern/fern.py',\n",
       " 'learning-projects/Ben/tests_with_barnsleys_fern/main.py',\n",
       " 'learning-projects/Ben/tests_with_barnsleys_fern/matplotlib_presenter.py',\n",
       " 'learning-projects/Ben/tests_with_barnsleys_fern/presenter.py',\n",
       " 'learning-projects/Ben/tests_with_barnsleys_fern/setup.cfg',\n",
       " 'learning-projects/Ben/tests_with_barnsleys_fern/tests/test_fern.py',\n",
       " 'learning-projects/Ben/tests_with_barnsleys_fern/tests/test_presenter.py',\n",
       " 'learning-projects/Ben/tests_with_barnsleys_fern/tests/test_transformation.py',\n",
       " 'learning-projects/Ben/tests_with_barnsleys_fern/transformation_values.py',\n",
       " 'learning-projects/DearPyGuiWithMultiprocessingAndAsyncIO',\n",
       " 'learning-projects/DearPyGuiWithMultiprocessingAndAsyncIO/experiments',\n",
       " 'learning-projects/DearPyGuiWithMultiprocessingAndAsyncIO/experiments/can_run_in_other_process.py',\n",
       " 'learning-projects/DearPyGuiWithMultiprocessingAndAsyncIO/experiments/dpg_io_handler_demo.py',\n",
       " 'learning-projects/DearPyGuiWithMultiprocessingAndAsyncIO/experiments/errors_multiprocessing.py',\n",
       " 'learning-projects/DearPyGuiWithMultiprocessingAndAsyncIO/experiments/is_dpg_blocking.py',\n",
       " 'learning-projects/DearPyGuiWithMultiprocessingAndAsyncIO/experiments/run_demo.py',\n",
       " 'learning-projects/DearPyGuiWithMultiprocessingAndAsyncIO/gui/__init__.py',\n",
       " 'learning-projects/DearPyGuiWithMultiprocessingAndAsyncIO/gui/dpg_utils.py',\n",
       " 'learning-projects/DearPyGuiWithMultiprocessingAndAsyncIO/gui/gui.py',\n",
       " 'learning-projects/DearPyGuiWithMultiprocessingAndAsyncIO/gui/main.py',\n",
       " 'learning-projects/DearPyGuiWithMultiprocessingAndAsyncIO/main.py',\n",
       " 'learning-projects/DearPyGuiWithMultiprocessingAndAsyncIO/sensor/__init__.py',\n",
       " 'learning-projects/DearPyGuiWithMultiprocessingAndAsyncIO/sensor/run_sensor.py',\n",
       " 'learning-projects/DearPyGuiWithMultiprocessingAndAsyncIO/sensor/sensor.py',\n",
       " 'learning-projects/DearPyGuiWithMultiprocessingAndAsyncIO/utils.py',\n",
       " 'learning-projects/game-of-life1/app.py',\n",
       " 'learning-projects/game-of-life1/gui.py',\n",
       " 'learning-projects/game-of-life1/tests/test_initialization.py',\n",
       " 'learning-projects/oauth-server-zoom/main.py',\n",
       " 'learning-projects/tryBehave/attendance/features/steps',\n",
       " 'learning-projects/tryBehave/attendance/features/steps/all.py',\n",
       " 'learning-projects/tryBehave/attendance2/features/steps',\n",
       " 'learning-projects/tryBehave/attendance2/features/steps/attendance_feature.py',\n",
       " 'learning-projects/tryBehave/calc/features/steps',\n",
       " 'learning-projects/tryBehave/calc/features/steps/steps.py',\n",
       " 'learning-projects/webapp',\n",
       " 'learning-projects/webapp/Home.py',\n",
       " 'learning-projects/webapp/__init__.py',\n",
       " 'learning-projects/webapp/pages',\n",
       " 'learning-projects/webapp/pages/1_Analysis.py',\n",
       " 'learning-projects/webapp/pages/2_Without Session State.py',\n",
       " 'learning-projects/webapp/pages/3_With Session State.py',\n",
       " 'learning-projects/webapp/scrap.ipynb',\n",
       " 'src/commit-scoreboard/features/environment.py',\n",
       " 'src/commit-scoreboard/features/steps',\n",
       " 'src/commit-scoreboard/features/steps/all.py',\n",
       " 'src/commit-scoreboard/features/testing.feature.skip',\n",
       " 'src/commit-scoreboard/main.py',\n",
       " 'src/commit-scoreboard/main_consoleremote.py',\n",
       " 'src/commit-scoreboard/main_streamlit.py',\n",
       " 'src/commit-scoreboard/main_streamlitremote.py',\n",
       " 'src/commit-scoreboard/scoreboard/__init__.py',\n",
       " 'src/commit-scoreboard/scoreboard/adapters',\n",
       " 'src/commit-scoreboard/scoreboard/adapters/__init__.py',\n",
       " 'src/commit-scoreboard/scoreboard/adapters/speaker_sounddevice.py',\n",
       " 'src/commit-scoreboard/scoreboard/adapters/vcs_repo_dummy.py',\n",
       " 'src/commit-scoreboard/scoreboard/adapters/vcs_repo_git.py',\n",
       " 'src/commit-scoreboard/scoreboard/adapters/views_console.py',\n",
       " 'src/commit-scoreboard/scoreboard/adapters/views_streamlit.py',\n",
       " 'src/commit-scoreboard/scoreboard/controllers.py',\n",
       " 'src/commit-scoreboard/scoreboard/core/__init__.py',\n",
       " 'src/commit-scoreboard/scoreboard/core/app.py',\n",
       " 'src/commit-scoreboard/scoreboard/core/rules.py',\n",
       " 'src/commit-scoreboard/scoreboard/core/scoreboard_view.py',\n",
       " 'src/commit-scoreboard/scratch/streamlit_layout.py',\n",
       " 'src/commit-scoreboard/scratch/try_fluidsynth.py',\n",
       " 'src/commit-scoreboard/scratch/try_sounddevice.py',\n",
       " 'src/commit-scoreboard/scratch/try_sounds_threading.py',\n",
       " 'src/commit-scoreboard/scratch/try_updating_streamlit.py',\n",
       " 'src/commit-scoreboard/tests/__init__.py',\n",
       " 'src/commit-scoreboard/tests/test_appmodel.py',\n",
       " 'src/commit-scoreboard/tests/test_dummy_vcsrepo.py',\n",
       " 'src/commit-scoreboard/tests/test_git_vscrepo.py',\n",
       " 'src/workshop-registration',\n",
       " 'src/workshop-registration/adapters',\n",
       " 'src/workshop-registration/adapters/__init__.py',\n",
       " 'src/workshop-registration/adapters/attendance_summary_presenter_make_spreadsheet.py',\n",
       " 'src/workshop-registration/adapters/attendance_summary_presenter_pandas.py',\n",
       " 'src/workshop-registration/adapters/attendancerepo_inmemory.py',\n",
       " 'src/workshop-registration/adapters/attendancerepo_zoom.py',\n",
       " 'src/workshop-registration/adapters/list_registrants_presenter_console.py',\n",
       " 'src/workshop-registration/adapters/list_registrants_presenter_pandas.py',\n",
       " 'src/workshop-registration/adapters/list_workshops_presenter_pprint.py',\n",
       " 'src/workshop-registration/adapters/registrationrepo_inmemory.py',\n",
       " 'src/workshop-registration/adapters/registrationrepo_zoom.py',\n",
       " 'src/workshop-registration/adapters/tests/test_attendancepresenter_console.py',\n",
       " 'src/workshop-registration/adapters/tests/test_attendancerepo_zoom.py',\n",
       " 'src/workshop-registration/adapters/tests/test_registrationrepo_zoom.py',\n",
       " 'src/workshop-registration/adapters/tests/test_workshoprepo_zoom.py',\n",
       " 'src/workshop-registration/adapters/workshoprepo_inmemory.py',\n",
       " 'src/workshop-registration/adapters/workshoprepo_zoom.py',\n",
       " 'src/workshop-registration/app',\n",
       " 'src/workshop-registration/app/__init__.py',\n",
       " 'src/workshop-registration/app/app.py',\n",
       " 'src/workshop-registration/app/attendance_presenter.py',\n",
       " 'src/workshop-registration/app/attendance_workflow.py',\n",
       " 'src/workshop-registration/app/attendancerepo.py',\n",
       " 'src/workshop-registration/app/list_registrant_presenter.py',\n",
       " 'src/workshop-registration/app/list_workshops_workflow.py',\n",
       " 'src/workshop-registration/app/registrant_workflows.py',\n",
       " 'src/workshop-registration/app/registrationrepo.py',\n",
       " 'src/workshop-registration/app/tests/test_change_decision.py',\n",
       " 'src/workshop-registration/app/tests/test_registrants_workflow.py',\n",
       " 'src/workshop-registration/app/workshoprepo.py',\n",
       " 'src/workshop-registration/attendance.py',\n",
       " 'src/workshop-registration/backlogs/sprint3.backlog',\n",
       " 'src/workshop-registration/backlogs/sprint4.backlog',\n",
       " 'src/workshop-registration/cli/main.py',\n",
       " 'src/workshop-registration/external/__init__.py',\n",
       " 'src/workshop-registration/external/zoom_api',\n",
       " 'src/workshop-registration/external/zoom_api/__init__.py',\n",
       " 'src/workshop-registration/external/zoom_api/api.py',\n",
       " 'src/workshop-registration/external/zoom_api/create_or_delete_registrant.py',\n",
       " 'src/workshop-registration/external/zoom_api/get_attendees.py',\n",
       " 'src/workshop-registration/external/zoom_api/get_meeting.py',\n",
       " 'src/workshop-registration/external/zoom_api/get_meetings.py',\n",
       " 'src/workshop-registration/external/zoom_api/list_group_members.py',\n",
       " 'src/workshop-registration/external/zoom_api/list_registrants.py',\n",
       " 'src/workshop-registration/external/zoom_api/tests/conftest.py',\n",
       " 'src/workshop-registration/external/zoom_api/tests/test_add_delete_registrants.py',\n",
       " 'src/workshop-registration/external/zoom_api/tests/test_attendees.py',\n",
       " 'src/workshop-registration/external/zoom_api/tests/test_get_meeting.py',\n",
       " 'src/workshop-registration/external/zoom_api/tests/test_get_meetings.py',\n",
       " 'src/workshop-registration/external/zoom_api/tests/test_list_group_members.py',\n",
       " 'src/workshop-registration/external/zoom_api/tests/test_list_registrants.py',\n",
       " 'src/workshop-registration/external/zoom_api/update_registration.py',\n",
       " 'src/workshop-registration/external/zoom_api/zoom_oauth.py',\n",
       " 'src/workshop-registration/features/approve.feature',\n",
       " 'src/workshop-registration/features/contact.pbl',\n",
       " 'src/workshop-registration/features/decision.pbl',\n",
       " 'src/workshop-registration/features/environment.py',\n",
       " 'src/workshop-registration/features/list_upcoming.feature',\n",
       " 'src/workshop-registration/features/list_upcoming.pbl',\n",
       " 'src/workshop-registration/features/steps',\n",
       " 'src/workshop-registration/features/steps/approve.py',\n",
       " 'src/workshop-registration/features/steps/attendance.py',\n",
       " 'src/workshop-registration/features/steps/list_upcoming.py',\n",
       " 'src/workshop-registration/merge_timerange.py',\n",
       " 'src/workshop-registration/mypy.ini',\n",
       " 'src/workshop-registration/pytest.ini',\n",
       " 'src/workshop-registration/tests/e2e_test.py',\n",
       " 'src/workshop-registration/web/__init__.py',\n",
       " 'src/workshop-registration/web/main.py',\n",
       " 'src/workshop-registration/web/presenters.py',\n",
       " 'src/workshop-registration/web/tests/test_presenter.py',\n",
       " 'src/workshop-registration/web/tests/test_view.py',\n",
       " 'src/workshop-registration/web/tests/test_view_model.py',\n",
       " 'src/workshop-registration/web/view.py',\n",
       " 'src/workshop-registration/web/view_model.py',\n",
       " 'tutorials/Async-http-benchmarks.ipynb',\n",
       " 'tutorials/DataFrames to Mat Files and RDS Files.ipynb',\n",
       " 'tutorials/ExtractingMetadataFromFilenamesWithGlob2.ipynb',\n",
       " 'tutorials/Loading Env Files with DotEnv.ipynb',\n",
       " 'tutorials/MRI_plots.mlx',\n",
       " 'tutorials/MRI_plots.pdf',\n",
       " 'tutorials/Making NWB Files.ipynb',\n",
       " 'tutorials/Match-case-statements.ipynb',\n",
       " 'tutorials/Observable.ipynb',\n",
       " 'tutorials/RemovingUnusedImportsWithAutoflake.ipynb',\n",
       " 'tutorials/mne-load-visualization.ipynb',\n",
       " 'workshops',\n",
       " 'workshops/Intro-to-matlab/livescripts',\n",
       " 'workshops/Intro-to-matlab/livescripts/Group_Statstics_And_Error_Bars.mlx',\n",
       " 'workshops/Intro-to-matlab/livescripts/Groupsummary_and_barplots.mlx',\n",
       " 'workshops/Intro-to-matlab/livescripts/Introduction_to_Matlab_Livescripts.mlx',\n",
       " 'workshops/Intro-to-matlab/livescripts/Line_plots.mlx',\n",
       " 'workshops/arduino-programming',\n",
       " 'workshops/arduino-programming/.gitpod.yml',\n",
       " 'workshops/commit-relay-workshop',\n",
       " 'workshops/intro-to-python-and-pandas']"
      ]
     },
     "execution_count": 10,
     "metadata": {},
     "output_type": "execute_result"
    }
   ],
   "source": [
    "fs.ls(\"\")\n",
    "fs.glob(\"**/p*\")"
   ]
  },
  {
   "cell_type": "markdown",
   "metadata": {},
   "source": [
    "List all the files whose filenames end in the \"CSV\" extension."
   ]
  },
  {
   "cell_type": "code",
   "execution_count": null,
   "metadata": {},
   "outputs": [],
   "source": []
  },
  {
   "cell_type": "markdown",
   "metadata": {},
   "source": [
    "List all the PNG image files in the \"png\" folder."
   ]
  },
  {
   "cell_type": "code",
   "execution_count": null,
   "metadata": {},
   "outputs": [],
   "source": []
  },
  {
   "cell_type": "markdown",
   "metadata": {},
   "source": [
    "Download all the PNG image files in the \"png\" folder."
   ]
  },
  {
   "cell_type": "code",
   "execution_count": null,
   "metadata": {},
   "outputs": [],
   "source": []
  },
  {
   "cell_type": "markdown",
   "metadata": {},
   "source": [
    "List all the files in the root directory of the repo, with `detail=True` (i.e. `fs.ls(\"/\", detail=True)`).  What information does it give us about these files?"
   ]
  },
  {
   "cell_type": "code",
   "execution_count": null,
   "metadata": {},
   "outputs": [],
   "source": []
  },
  {
   "cell_type": "markdown",
   "metadata": {},
   "source": [
    "Read and print the text contents of the \"anscombe.csv\" file. What data is inside this file?"
   ]
  },
  {
   "cell_type": "code",
   "execution_count": null,
   "metadata": {},
   "outputs": [],
   "source": []
  },
  {
   "cell_type": "markdown",
   "metadata": {},
   "source": [
    "**DeepLabCut**: Answer the following questions about the DeepLabCut GitHub Repo:   https://github.com/DeepLabCut/DeepLabCut"
   ]
  },
  {
   "cell_type": "markdown",
   "metadata": {},
   "source": [
    "What files are in the root directory of the DeepLabCut repo?"
   ]
  },
  {
   "cell_type": "code",
   "execution_count": 15,
   "metadata": {},
   "outputs": [
    {
     "ename": "HTTPError",
     "evalue": "403 Client Error: rate limit exceeded for url: https://api.github.com/repos/DeepLabCut/DeepLabCut",
     "output_type": "error",
     "traceback": [
      "\u001b[0;31m---------------------------------------------------------------------------\u001b[0m",
      "\u001b[0;31mHTTPError\u001b[0m                                 Traceback (most recent call last)",
      "Cell \u001b[0;32mIn[15], line 1\u001b[0m\n\u001b[0;32m----> 1\u001b[0m fs \u001b[38;5;241m=\u001b[39m \u001b[43mGithubFileSystem\u001b[49m\u001b[43m(\u001b[49m\u001b[43morg\u001b[49m\u001b[38;5;241;43m=\u001b[39;49m\u001b[38;5;124;43m\"\u001b[39;49m\u001b[38;5;124;43mDeepLabCut\u001b[39;49m\u001b[38;5;124;43m\"\u001b[39;49m\u001b[43m,\u001b[49m\u001b[43m \u001b[49m\u001b[43mrepo\u001b[49m\u001b[38;5;241;43m=\u001b[39;49m\u001b[38;5;124;43m\"\u001b[39;49m\u001b[38;5;124;43mDeepLabCut\u001b[39;49m\u001b[38;5;124;43m\"\u001b[39;49m\u001b[43m)\u001b[49m\n\u001b[1;32m      2\u001b[0m fs\u001b[38;5;241m.\u001b[39mls(\u001b[38;5;124m\"\u001b[39m\u001b[38;5;124m\"\u001b[39m)\n",
      "File \u001b[0;32m~/anaconda3/envs/dwshop/lib/python3.11/site-packages/fsspec/spec.py:79\u001b[0m, in \u001b[0;36m_Cached.__call__\u001b[0;34m(cls, *args, **kwargs)\u001b[0m\n\u001b[1;32m     77\u001b[0m     \u001b[38;5;28;01mreturn\u001b[39;00m \u001b[38;5;28mcls\u001b[39m\u001b[38;5;241m.\u001b[39m_cache[token]\n\u001b[1;32m     78\u001b[0m \u001b[38;5;28;01melse\u001b[39;00m:\n\u001b[0;32m---> 79\u001b[0m     obj \u001b[38;5;241m=\u001b[39m \u001b[38;5;28;43msuper\u001b[39;49m\u001b[43m(\u001b[49m\u001b[43m)\u001b[49m\u001b[38;5;241;43m.\u001b[39;49m\u001b[38;5;21;43m__call__\u001b[39;49m\u001b[43m(\u001b[49m\u001b[38;5;241;43m*\u001b[39;49m\u001b[43margs\u001b[49m\u001b[43m,\u001b[49m\u001b[43m \u001b[49m\u001b[38;5;241;43m*\u001b[39;49m\u001b[38;5;241;43m*\u001b[39;49m\u001b[43mkwargs\u001b[49m\u001b[43m)\u001b[49m\n\u001b[1;32m     80\u001b[0m     \u001b[38;5;66;03m# Setting _fs_token here causes some static linters to complain.\u001b[39;00m\n\u001b[1;32m     81\u001b[0m     obj\u001b[38;5;241m.\u001b[39m_fs_token_ \u001b[38;5;241m=\u001b[39m token\n",
      "File \u001b[0;32m~/anaconda3/envs/dwshop/lib/python3.11/site-packages/fsspec/implementations/github.py:52\u001b[0m, in \u001b[0;36mGithubFileSystem.__init__\u001b[0;34m(self, org, repo, sha, username, token, **kwargs)\u001b[0m\n\u001b[1;32m     50\u001b[0m     u \u001b[38;5;241m=\u001b[39m \u001b[38;5;124m\"\u001b[39m\u001b[38;5;124mhttps://api.github.com/repos/\u001b[39m\u001b[38;5;132;01m{org}\u001b[39;00m\u001b[38;5;124m/\u001b[39m\u001b[38;5;132;01m{repo}\u001b[39;00m\u001b[38;5;124m\"\u001b[39m\n\u001b[1;32m     51\u001b[0m     r \u001b[38;5;241m=\u001b[39m requests\u001b[38;5;241m.\u001b[39mget(u\u001b[38;5;241m.\u001b[39mformat(org\u001b[38;5;241m=\u001b[39morg, repo\u001b[38;5;241m=\u001b[39mrepo), \u001b[38;5;241m*\u001b[39m\u001b[38;5;241m*\u001b[39m\u001b[38;5;28mself\u001b[39m\u001b[38;5;241m.\u001b[39mkw)\n\u001b[0;32m---> 52\u001b[0m     \u001b[43mr\u001b[49m\u001b[38;5;241;43m.\u001b[39;49m\u001b[43mraise_for_status\u001b[49m\u001b[43m(\u001b[49m\u001b[43m)\u001b[49m\n\u001b[1;32m     53\u001b[0m     sha \u001b[38;5;241m=\u001b[39m r\u001b[38;5;241m.\u001b[39mjson()[\u001b[38;5;124m\"\u001b[39m\u001b[38;5;124mdefault_branch\u001b[39m\u001b[38;5;124m\"\u001b[39m]\n\u001b[1;32m     55\u001b[0m \u001b[38;5;28mself\u001b[39m\u001b[38;5;241m.\u001b[39mroot \u001b[38;5;241m=\u001b[39m sha\n",
      "File \u001b[0;32m~/anaconda3/envs/dwshop/lib/python3.11/site-packages/requests/models.py:1021\u001b[0m, in \u001b[0;36mResponse.raise_for_status\u001b[0;34m(self)\u001b[0m\n\u001b[1;32m   1016\u001b[0m     http_error_msg \u001b[38;5;241m=\u001b[39m (\n\u001b[1;32m   1017\u001b[0m         \u001b[38;5;124mf\u001b[39m\u001b[38;5;124m\"\u001b[39m\u001b[38;5;132;01m{\u001b[39;00m\u001b[38;5;28mself\u001b[39m\u001b[38;5;241m.\u001b[39mstatus_code\u001b[38;5;132;01m}\u001b[39;00m\u001b[38;5;124m Server Error: \u001b[39m\u001b[38;5;132;01m{\u001b[39;00mreason\u001b[38;5;132;01m}\u001b[39;00m\u001b[38;5;124m for url: \u001b[39m\u001b[38;5;132;01m{\u001b[39;00m\u001b[38;5;28mself\u001b[39m\u001b[38;5;241m.\u001b[39murl\u001b[38;5;132;01m}\u001b[39;00m\u001b[38;5;124m\"\u001b[39m\n\u001b[1;32m   1018\u001b[0m     )\n\u001b[1;32m   1020\u001b[0m \u001b[38;5;28;01mif\u001b[39;00m http_error_msg:\n\u001b[0;32m-> 1021\u001b[0m     \u001b[38;5;28;01mraise\u001b[39;00m HTTPError(http_error_msg, response\u001b[38;5;241m=\u001b[39m\u001b[38;5;28mself\u001b[39m)\n",
      "\u001b[0;31mHTTPError\u001b[0m: 403 Client Error: rate limit exceeded for url: https://api.github.com/repos/DeepLabCut/DeepLabCut"
     ]
    }
   ],
   "source": [
    "fs = GithubFileSystem(org=\"DeepLabCut\", repo=\"DeepLabCut\")\n",
    "fs.ls(\"\")"
   ]
  },
  {
   "cell_type": "markdown",
   "metadata": {},
   "source": [
    "How many files or folders are in the \"openfield-Pranav-2018-10-30\" folder, which is in the \"examples\" folder?  (Tip: the `len()` function can be helpful here.)"
   ]
  },
  {
   "cell_type": "code",
   "execution_count": null,
   "metadata": {},
   "outputs": [],
   "source": []
  },
  {
   "cell_type": "markdown",
   "metadata": {},
   "source": [
    "How many files are there, if you include every single file or folder in all the subfolders of the openfield example?"
   ]
  },
  {
   "cell_type": "code",
   "execution_count": null,
   "metadata": {},
   "outputs": [],
   "source": []
  },
  {
   "cell_type": "markdown",
   "metadata": {},
   "source": [
    "Download all the \"labeled-data\" files in the openfield example (`fs.download(recursive=True)`)"
   ]
  },
  {
   "cell_type": "code",
   "execution_count": null,
   "metadata": {},
   "outputs": [],
   "source": []
  }
 ],
 "metadata": {
  "kernelspec": {
   "display_name": "duckdb",
   "language": "python",
   "name": "python3"
  },
  "language_info": {
   "codemirror_mode": {
    "name": "ipython",
    "version": 3
   },
   "file_extension": ".py",
   "mimetype": "text/x-python",
   "name": "python",
   "nbconvert_exporter": "python",
   "pygments_lexer": "ipython3",
   "version": "3.11.7"
  }
 },
 "nbformat": 4,
 "nbformat_minor": 2
}
